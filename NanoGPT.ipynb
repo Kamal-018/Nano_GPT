{
  "nbformat": 4,
  "nbformat_minor": 0,
  "metadata": {
    "colab": {
      "provenance": [],
      "authorship_tag": "ABX9TyOKx6pbXL4xFujaw22xUmMt",
      "include_colab_link": true
    },
    "kernelspec": {
      "name": "python3",
      "display_name": "Python 3"
    },
    "language_info": {
      "name": "python"
    }
  },
  "cells": [
    {
      "cell_type": "markdown",
      "metadata": {
        "id": "view-in-github",
        "colab_type": "text"
      },
      "source": [
        "<a href=\"https://colab.research.google.com/github/Kamal-018/Nano_GPT/blob/main/NanoGPT.ipynb\" target=\"_parent\"><img src=\"https://colab.research.google.com/assets/colab-badge.svg\" alt=\"Open In Colab\"/></a>"
      ]
    },
    {
      "cell_type": "code",
      "execution_count": null,
      "metadata": {
        "id": "OIftROxm0ux8"
      },
      "outputs": [],
      "source": [
        "import torch\n",
        "import torch.nn as nn\n",
        "from torch.nn import functional as f"
      ]
    },
    {
      "cell_type": "code",
      "source": [
        "with open('input.txt', 'r', encoding='utf-8') as f:\n",
        "  text = f.read()"
      ],
      "metadata": {
        "id": "-B01V-I4IOEG"
      },
      "execution_count": null,
      "outputs": []
    },
    {
      "cell_type": "code",
      "source": [
        "# unique characters in the text\n",
        "chars= sorted(list(set(text)))\n",
        "vocab_size = len(chars)\n",
        "\n",
        "#mapping characters to integers and vice-versa (dict comprehension)\n",
        "stoi = {ch:i for i,ch in enumerate(chars)}  #{ch: i} → Characters as keys, indices as values\n",
        "itos= {i:ch for i,ch in enumerate(chars)}   #{i: ch} → Indices as keys, characters as values and rest done by the enumerate function\n",
        "\n",
        "encode = lambda s: [stoi[c] for c in s]\n",
        "decode = decode = lambda l: ''.join([itos[i] for i in l])\n"
      ],
      "metadata": {
        "id": "z-D6UZLQKA6N"
      },
      "execution_count": null,
      "outputs": []
    },
    {
      "cell_type": "code",
      "source": [
        "#train test split\n",
        "data = torch.tensor(encode(text), dtype=torch.long)\n",
        "n = int(0.9*len(data)) # first 90% will be train, rest val\n",
        "train_data = data[:n]\n",
        "val_data = data[n:]"
      ],
      "metadata": {
        "id": "zo6cXwKWAsDl"
      },
      "execution_count": null,
      "outputs": []
    }
  ]
}